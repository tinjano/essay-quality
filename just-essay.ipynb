{
 "cells": [
  {
   "cell_type": "markdown",
   "id": "696cf94c-f04b-44dd-8267-58773b3ac2de",
   "metadata": {},
   "source": [
    "The purpose of this notebook is to reconstruct essays and save them to a parquet file. This notebook is part of the repository at https://github.com/tinjano/essay-quality."
   ]
  },
  {
   "cell_type": "code",
   "execution_count": null,
   "id": "9b33052d-90ec-47a7-8c4e-a0fdb47c54cd",
   "metadata": {},
   "outputs": [],
   "source": [
    "import pandas as pd\n",
    "from essay_module import *\n",
    "\n",
    "data = pd.read_csv('data/train_logs.csv')\n",
    "\n",
    "data = data.astype({\n",
    "     'id': 'category', \n",
    "    'event_id': 'int64',\n",
    "    'up_time': 'float64',\n",
    "    'down_time': 'float64',\n",
    "    'action_time': 'float64',\n",
    "    'activity': 'category',\n",
    "    'down_event': 'category',\n",
    "    'up_event': 'category',\n",
    "    'text_change': 'str',\n",
    "    'cursor_position': 'int64',\n",
    "    'word_count': 'int64'\n",
    "})\n",
    "\n",
    "essay_find = lambda x: x; essay_find.__name__ = 'essay'\n",
    "extractor = Extractor(essay_find)\n",
    "\n",
    "new_frame = extractor.do_it(data)\n",
    "\n",
    "new_frame.to_parquet('essays.parquet')"
   ]
  }
 ],
 "metadata": {
  "kernelspec": {
   "display_name": "conda-base-environment",
   "language": "python",
   "name": "conda-base-environment"
  },
  "language_info": {
   "codemirror_mode": {
    "name": "ipython",
    "version": 3
   },
   "file_extension": ".py",
   "mimetype": "text/x-python",
   "name": "python",
   "nbconvert_exporter": "python",
   "pygments_lexer": "ipython3",
   "version": "3.11.5"
  }
 },
 "nbformat": 4,
 "nbformat_minor": 5
}
